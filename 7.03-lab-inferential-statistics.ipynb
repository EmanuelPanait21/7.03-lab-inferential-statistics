{
 "cells": [
  {
   "cell_type": "markdown",
   "id": "fff6359e",
   "metadata": {},
   "source": [
    "Problem\n",
    "\n",
    "It is assumed that the mean systolic blood pressure is μ = 120 mm Hg.\n",
    "In the Honolulu Heart Study, a sample of n = 100 people had an average systolic blood pressure of 130.1 mm Hg with\n",
    "a standard deviation of 21.21 mm Hg. Is the group significantly different (with respect to systolic blood pressure!) \n",
    "from the regular population?\n",
    "    *Set up the hypothesis test.\n",
    "    *Write down all the steps followed for setting up the test.\n",
    "    *Calculate the test statistic by hand and also code it in Python.\n",
    "     It should be 4.76190. We will take a look at how to make decisions based on this calculated value.\n",
    "\n",
    "Set up the hypothesis test.\n",
    "    Ho => μ = 120 mm Hg\n",
    "    Ha => μ != 120 mm Hg\n",
    "    α = 0.05\n",
    "    \n",
    "Write down all the steps followed for setting up the test.\n",
    "    *Ask the right question: \"Is the sample group significantly different (with respect to the systolic blood pressure)\n",
    "    from the whole population?\"\n",
    "    *Write down the null hypothesis, alternative hypothesis, and the significance level (0.05 as usual)\n",
    "    *Choose between t-test and z-test; in this case, we're going to use the z-test, because sample > 30.\n",
    "    If sample < 30, then we're using the t-test.\n",
    "    \n",
    "Data:\n",
    "    Ho => μ = 120 mm Hg\n",
    "    Ha => μ != 120 mm Hg\n",
    "    α = 0.05\n",
    "    n = 100\n",
    "    sd_sample = 21.21 mm Hg\n",
    "    \n",
    "T calculation:\n",
    "    t = (x̄ - μ0) / (sd_sample / √n)\n",
    "    t = (130.1 - 120) / (21.21 / √100)\n",
    "    t = 10.1 / 2.121\n",
    "    t = 4.76190"
   ]
  },
  {
   "cell_type": "code",
   "execution_count": 1,
   "id": "db9f27db",
   "metadata": {},
   "outputs": [
    {
     "data": {
      "text/plain": [
       "4.761904761904759"
      ]
     },
     "execution_count": 1,
     "metadata": {},
     "output_type": "execute_result"
    }
   ],
   "source": [
    "import numpy as np\n",
    "\n",
    "X_sample = 130.1\n",
    "mu = 120\n",
    "sd = 21.21\n",
    "n = 100\n",
    "\n",
    "t = (X_sample - mu) / (sd / np.sqrt(n))\n",
    "t"
   ]
  },
  {
   "cell_type": "markdown",
   "id": "2867ceb5",
   "metadata": {},
   "source": [
    "Conclusion"
   ]
  },
  {
   "cell_type": "markdown",
   "id": "2bc93311",
   "metadata": {},
   "source": [
    "T = 2 from two-tailed t-table\n",
    "4.76190 > 2 => We can reject the null hypothesis H0 and accept H1"
   ]
  }
 ],
 "metadata": {
  "kernelspec": {
   "display_name": "Python 3 (ipykernel)",
   "language": "python",
   "name": "python3"
  },
  "language_info": {
   "codemirror_mode": {
    "name": "ipython",
    "version": 3
   },
   "file_extension": ".py",
   "mimetype": "text/x-python",
   "name": "python",
   "nbconvert_exporter": "python",
   "pygments_lexer": "ipython3",
   "version": "3.9.7"
  }
 },
 "nbformat": 4,
 "nbformat_minor": 5
}
